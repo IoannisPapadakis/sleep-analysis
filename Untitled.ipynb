{
 "cells": [
  {
   "cell_type": "markdown",
   "metadata": {},
   "source": [
    "# Stats and Sleep\n",
    "Tushar Chandra -- STATS 383 final project"
   ]
  },
  {
   "cell_type": "markdown",
   "metadata": {},
   "source": [
    "This notebook contains my final project for STATS 383 (Statistics for ISP) at Northwestern Unviersity. In it, I investigate several questions about my sleep habits using data collected from my Fitbit. "
   ]
  },
  {
   "cell_type": "markdown",
   "metadata": {},
   "source": [
    "## 1. Introduction\n",
    "### Data Sources\n",
    "The data used in this notebook was collected on my Fitbit Charge HR nightly since July 2015. To access the data, I wrote a Python script to download all of my sleep data from Fitbit, using their API. The script requested each day's worth of data, and stored the API response in log files named as `yyyy-mm-dd.json`. For more information on this, see the script `fitbit.py` and the README in the home directory of my repo `sleep-analysis`.\n",
    "\n",
    "### Questions of Interest\n",
    "In this notebook, I will answer the following questions using statistical methods from class:\n",
    " * Something\n",
    " * Something else!\n",
    " \n",
    "### Setup\n",
    "Let's setup the notebook by importing useful packages and configuring plots."
   ]
  },
  {
   "cell_type": "code",
   "execution_count": 1,
   "metadata": {
    "collapsed": true
   },
   "outputs": [],
   "source": [
    "%matplotlib inline\n",
    "\n",
    "import datetime\n",
    "import json\n",
    "\n",
    "import matplotlib\n",
    "import matplotlib.pyplot as plt\n",
    "import numpy as np\n",
    "import pandas as pd\n",
    "import scipy.stats\n",
    "\n",
    "matplotlib.style.use('ggplot')\n",
    "plt.rcParams['figure.figsize'] = [12.0, 8.0]"
   ]
  },
  {
   "cell_type": "markdown",
   "metadata": {},
   "source": [
    "### Data Format\n",
    "Before jumping in, let's run some illustrative commands to better understand the shape of the data. One can refer to the [Fitbit documentation](https://dev.fitbit.com/docs/sleep/) for details about the log files' contents. Each day contains two top-level attributes, `sleep` and `summary`:\n",
    " * `sleep` is a list of one or more sleep events in a day. Each entry has several attributes, like `isMainSleep` and `minutesAsleep`. In addition, `minuteData.minuteData` contains minute-by-minute sleep data, where each minute has an identifier, 1, 2, or 3, denoting asleep, restless, or awake, respectively.\n",
    " * `summary` contains aggregate statistics -- it includes the number of sleep events (`totalSleepRecords`), the total time spent in bed (`totalTimeInBed`), and total time asleep (`TotalMinutesAsleep`)."
   ]
  },
  {
   "cell_type": "code",
   "execution_count": 22,
   "metadata": {
    "collapsed": false
   },
   "outputs": [
    {
     "data": {
      "text/plain": [
       "['sleep', 'summary']"
      ]
     },
     "execution_count": 22,
     "metadata": {},
     "output_type": "execute_result"
    }
   ],
   "source": [
    "# This should get the top-level keys 'summary' and 'sleep'\n",
    "with open('logs/2017-02-01.json') as f:\n",
    "    sample_data = json.loads(f.read())\n",
    "    \n",
    "list(sample_data.keys())"
   ]
  },
  {
   "cell_type": "code",
   "execution_count": 24,
   "metadata": {
    "collapsed": false
   },
   "outputs": [
    {
     "data": {
      "text/plain": [
       "['duration',\n",
       " 'minutesAwake',\n",
       " 'minutesAfterWakeup',\n",
       " 'restlessCount',\n",
       " 'restlessDuration',\n",
       " 'minutesAsleep',\n",
       " 'startTime',\n",
       " 'logId',\n",
       " 'efficiency',\n",
       " 'timeInBed',\n",
       " 'awakeCount',\n",
       " 'isMainSleep',\n",
       " 'dateOfSleep',\n",
       " 'minutesToFallAsleep',\n",
       " 'awakeDuration',\n",
       " 'awakeningsCount',\n",
       " 'minuteData']"
      ]
     },
     "execution_count": 24,
     "metadata": {},
     "output_type": "execute_result"
    }
   ],
   "source": [
    "# This should get the keys for the first sleep entry (isMainSleep, minutesAsleep, etc.)\n",
    "list(sample_data['sleep'][0].keys())"
   ]
  },
  {
   "cell_type": "code",
   "execution_count": null,
   "metadata": {
    "collapsed": true
   },
   "outputs": [],
   "source": []
  }
 ],
 "metadata": {
  "kernelspec": {
   "display_name": "Python 3",
   "language": "python",
   "name": "python3"
  },
  "language_info": {
   "codemirror_mode": {
    "name": "ipython",
    "version": 3
   },
   "file_extension": ".py",
   "mimetype": "text/x-python",
   "name": "python",
   "nbconvert_exporter": "python",
   "pygments_lexer": "ipython3",
   "version": "3.5.2"
  }
 },
 "nbformat": 4,
 "nbformat_minor": 2
}
