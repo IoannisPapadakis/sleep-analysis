{
 "cells": [
  {
   "cell_type": "markdown",
   "metadata": {},
   "source": [
    "# Stats and Sleep\n",
    "Tushar Chandra -- STATS 383 final project"
   ]
  },
  {
   "cell_type": "markdown",
   "metadata": {},
   "source": [
    "This notebook contains my final project for STATS 383 (Statistics for ISP) at Northwestern Unviersity. In it, I investigate several questions about my sleep habits using data collected from my Fitbit. "
   ]
  },
  {
   "cell_type": "markdown",
   "metadata": {},
   "source": [
    "## 1. Introduction\n",
    "### Data Sources\n",
    "The data used in this notebook was collected on my Fitbit Charge HR nightly since July 2015. To access the data, I wrote a Python script to download all of my sleep data from Fitbit, using their API. The script requested each day's worth of data, and stored the API response in log files named as `yyyy-mm-dd.json`. For more information on this, see the script `fitbit.py` and the README in the home directory of my repo `sleep-analysis`.\n",
    "\n",
    "### Questions of Interest\n",
    "In this notebook, I will answer the following questions using statistical methods from class:\n",
    " * Something\n",
    " * Something else!\n",
    " \n",
    "### Setup\n",
    "Let's setup the notebook by importing useful packages and configuring plots."
   ]
  },
  {
   "cell_type": "code",
   "execution_count": 147,
   "metadata": {
    "collapsed": false
   },
   "outputs": [],
   "source": [
    "%matplotlib inline\n",
    "\n",
    "from collections import namedtuple\n",
    "import datetime\n",
    "import json\n",
    "\n",
    "import matplotlib\n",
    "import matplotlib.pyplot as plt\n",
    "import numpy as np\n",
    "import pandas as pd\n",
    "import statsmodels.formula.api as smf\n",
    "\n",
    "matplotlib.style.use('ggplot')\n",
    "plt.rcParams['figure.figsize'] = [9.0, 6.0]"
   ]
  },
  {
   "cell_type": "markdown",
   "metadata": {},
   "source": [
    "### Data Format\n",
    "Before jumping in, let's run some illustrative commands to better understand the shape of the data. One can refer to the [Fitbit documentation](https://dev.fitbit.com/docs/sleep/) for details about the log files' contents. Each day contains two top-level attributes, `sleep` and `summary`:\n",
    " * `sleep` is a list of one or more sleep events in a day. Each entry has several attributes, like `isMainSleep` and `minutesAsleep`. In addition, `minuteData.minuteData` contains minute-by-minute sleep data, where each minute has an identifier, 1, 2, or 3, denoting asleep, restless, or awake, respectively.\n",
    " * `summary` contains aggregate statistics -- it includes the number of sleep events (`totalSleepRecords`), the total time spent in bed (`totalTimeInBed`), and total time asleep (`TotalMinutesAsleep`)."
   ]
  },
  {
   "cell_type": "code",
   "execution_count": 22,
   "metadata": {
    "collapsed": false
   },
   "outputs": [
    {
     "data": {
      "text/plain": [
       "['sleep', 'summary']"
      ]
     },
     "execution_count": 22,
     "metadata": {},
     "output_type": "execute_result"
    }
   ],
   "source": [
    "# This should get the top-level keys 'summary' and 'sleep'\n",
    "with open('logs/2017-02-01.json') as f:\n",
    "    sample_data = json.loads(f.read())\n",
    "    \n",
    "list(sample_data.keys())"
   ]
  },
  {
   "cell_type": "code",
   "execution_count": 25,
   "metadata": {
    "collapsed": false
   },
   "outputs": [
    {
     "data": {
      "text/plain": [
       "['totalSleepRecords', 'totalTimeInBed', 'totalMinutesAsleep']"
      ]
     },
     "execution_count": 25,
     "metadata": {},
     "output_type": "execute_result"
    }
   ],
   "source": [
    "# This should get the summary statistics available\n",
    "list(sample_data['summary'].keys())"
   ]
  },
  {
   "cell_type": "code",
   "execution_count": 24,
   "metadata": {
    "collapsed": false
   },
   "outputs": [
    {
     "data": {
      "text/plain": [
       "['duration',\n",
       " 'minutesAwake',\n",
       " 'minutesAfterWakeup',\n",
       " 'restlessCount',\n",
       " 'restlessDuration',\n",
       " 'minutesAsleep',\n",
       " 'startTime',\n",
       " 'logId',\n",
       " 'efficiency',\n",
       " 'timeInBed',\n",
       " 'awakeCount',\n",
       " 'isMainSleep',\n",
       " 'dateOfSleep',\n",
       " 'minutesToFallAsleep',\n",
       " 'awakeDuration',\n",
       " 'awakeningsCount',\n",
       " 'minuteData']"
      ]
     },
     "execution_count": 24,
     "metadata": {},
     "output_type": "execute_result"
    }
   ],
   "source": [
    "# This should get the keys for the first sleep entry (isMainSleep, minutesAsleep, etc.)\n",
    "list(sample_data['sleep'][0].keys())"
   ]
  },
  {
   "cell_type": "code",
   "execution_count": 28,
   "metadata": {
    "collapsed": false
   },
   "outputs": [
    {
     "data": {
      "text/plain": [
       "215"
      ]
     },
     "execution_count": 28,
     "metadata": {},
     "output_type": "execute_result"
    }
   ],
   "source": [
    "# This will tell me the number of minutes I spent in bed that night\n",
    "sample_data['summary']['totalTimeInBed']"
   ]
  },
  {
   "cell_type": "markdown",
   "metadata": {},
   "source": [
    "Note that the sleep record for a particular day contains data from the previous night, not the following night. That is, the data in `2017-02-01.json` will tell me how much I slept the night after January 31st."
   ]
  },
  {
   "cell_type": "markdown",
   "metadata": {},
   "source": [
    "## 2. Time spent asleep during winter quarter\n",
    "I will first study how my sleep habits changed over winter quarter 2017. To do this, I'll obtain time-series data of how much time I was in bed versus day in the quarter, and perform regression analysis on it to see if there is a statistically significant slope. Seeing such a slope would indicate that how much I slept changed in some way throughout winter."
   ]
  },
  {
   "cell_type": "markdown",
   "metadata": {},
   "source": [
    "### Obtaining Data\n",
    "First, obtain the relevant data. Winter quarter started on January 3rd, and has not yet ended, so we use the date of writing as the last date of analysis.\n",
    "\n",
    "We are interested in the total time spent in bed during winter. However, I want to study how much time I spent asleep at night, without considering naps. Because of this, I'll only look at the events where `isMainSleep` is `true`."
   ]
  },
  {
   "cell_type": "code",
   "execution_count": 180,
   "metadata": {
    "collapsed": false
   },
   "outputs": [],
   "source": [
    "# Dates of interest, and NamedTuple to hold relevant info\n",
    "dates = pd.date_range(\"2017-01-03\", \"2017-03-15\")\n",
    "\n",
    "data = []\n",
    "\n",
    "# Obtain time spent in bed and bedtime for each main sleep event\n",
    "for date in dates:\n",
    "    fname = 'logs/' + date.strftime('%Y-%m-%d') + '.json'\n",
    "    with open(fname, \"r\") as f:\n",
    "        date_data = json.loads(f.read())\n",
    "        \n",
    "        for sleep_event in date_data[\"sleep\"]:\n",
    "            if sleep_event[\"isMainSleep\"]:\n",
    "                data.append(sleep_event[\"timeInBed\"])\n",
    "\n",
    "# Convert to Pandas dataframe\n",
    "df = pd.DataFrame(data, columns = [\"duration\"], index = dates)"
   ]
  },
  {
   "cell_type": "markdown",
   "metadata": {},
   "source": [
    "Let's clean this a little. Add a column for the number of days since the start of winter (this will make regression much easier). Convert the durations from minutes to hours. Finally, treat bedtime as a decimal (e.g., 5:30 -> 5.5). We can look at the first few entries to get a feel for the data."
   ]
  },
  {
   "cell_type": "code",
   "execution_count": 181,
   "metadata": {
    "collapsed": false
   },
   "outputs": [
    {
     "data": {
      "text/html": [
       "<div>\n",
       "<table border=\"1\" class=\"dataframe\">\n",
       "  <thead>\n",
       "    <tr style=\"text-align: right;\">\n",
       "      <th></th>\n",
       "      <th>duration</th>\n",
       "      <th>date_delta</th>\n",
       "    </tr>\n",
       "  </thead>\n",
       "  <tbody>\n",
       "    <tr>\n",
       "      <th>2017-01-03</th>\n",
       "      <td>6.033333</td>\n",
       "      <td>0.0</td>\n",
       "    </tr>\n",
       "    <tr>\n",
       "      <th>2017-01-04</th>\n",
       "      <td>6.566667</td>\n",
       "      <td>1.0</td>\n",
       "    </tr>\n",
       "    <tr>\n",
       "      <th>2017-01-05</th>\n",
       "      <td>8.016667</td>\n",
       "      <td>2.0</td>\n",
       "    </tr>\n",
       "    <tr>\n",
       "      <th>2017-01-06</th>\n",
       "      <td>5.733333</td>\n",
       "      <td>3.0</td>\n",
       "    </tr>\n",
       "    <tr>\n",
       "      <th>2017-01-07</th>\n",
       "      <td>10.850000</td>\n",
       "      <td>4.0</td>\n",
       "    </tr>\n",
       "  </tbody>\n",
       "</table>\n",
       "</div>"
      ],
      "text/plain": [
       "             duration  date_delta\n",
       "2017-01-03   6.033333         0.0\n",
       "2017-01-04   6.566667         1.0\n",
       "2017-01-05   8.016667         2.0\n",
       "2017-01-06   5.733333         3.0\n",
       "2017-01-07  10.850000         4.0"
      ]
     },
     "execution_count": 181,
     "metadata": {},
     "output_type": "execute_result"
    }
   ],
   "source": [
    "df[\"date_delta\"] = (df.index - dates.min())  / np.timedelta64(1,'D')\n",
    "df[\"duration\"] /= 60\n",
    "\n",
    "df.head()"
   ]
  },
  {
   "cell_type": "markdown",
   "metadata": {},
   "source": [
    "We'll plot the data, do a linear regression, and look at the results."
   ]
  },
  {
   "cell_type": "code",
   "execution_count": 182,
   "metadata": {
    "collapsed": false
   },
   "outputs": [
    {
     "data": {
      "image/png": "[encoded data removed]",
      "text/plain": [
       "<matplotlib.figure.Figure at 0x1c210adef98>"
      ]
     },
     "metadata": {},
     "output_type": "display_data"
    }
   ],
   "source": [
    "df[\"duration\"].plot()\n",
    "plt.ylabel(\"Hours in Bed\");"
   ]
  },
  {
   "cell_type": "code",
   "execution_count": 183,
   "metadata": {
    "collapsed": false
   },
   "outputs": [
    {
     "data": {
      "text/html": [
       "<table class=\"simpletable\">\n",
       "<tr>\n",
       "       <td></td>         <th>coef</th>     <th>std err</th>      <th>t</th>      <th>P>|t|</th>  <th>[0.025</th>    <th>0.975]</th>  \n",
       "</tr>\n",
       "<tr>\n",
       "  <th>Intercept</th>  <td>    6.6769</td> <td>    0.619</td> <td>   10.783</td> <td> 0.000</td> <td>    5.442</td> <td>    7.912</td>\n",
       "</tr>\n",
       "<tr>\n",
       "  <th>date_delta</th> <td>   -0.0076</td> <td>    0.015</td> <td>   -0.505</td> <td> 0.615</td> <td>   -0.038</td> <td>    0.022</td>\n",
       "</tr>\n",
       "</table>"
      ],
      "text/plain": [
       "<class 'statsmodels.iolib.table.SimpleTable'>"
      ]
     },
     "execution_count": 183,
     "metadata": {},
     "output_type": "execute_result"
    }
   ],
   "source": [
    "# Create a fitted model for duration vs. date\n",
    "model = smf.ols(formula = 'duration ~ date_delta', data = df).fit()\n",
    "model.summary().tables[1]"
   ]
  },
  {
   "cell_type": "code",
   "execution_count": 184,
   "metadata": {
    "collapsed": false
   },
   "outputs": [
    {
     "data": {
      "text/plain": [
       "0.0036270189954078491"
      ]
     },
     "execution_count": 184,
     "metadata": {},
     "output_type": "execute_result"
    }
   ],
   "source": [
    "model.rsquared"
   ]
  },
  {
   "cell_type": "markdown",
   "metadata": {},
   "source": [
    "The confidence interval for the linear coefficient is (-0.038, 0.022), which includes zero; likewise, the p-value is 0.615. We d not conclude there is a significant trend in my sleep duration over the course of the quarter. Indeed, we can see this from the line graph above -- the plot is very noisy and it's hard to tell much of a difference. We can also graph the predicted line against the actual data (as a scatterplot, this time, for readability) to see this."
   ]
  },
  {
   "cell_type": "code",
   "execution_count": 186,
   "metadata": {
    "collapsed": false
   },
   "outputs": [
    {
     "data": {
      "image/png": "[encoded data removed]",
      "text/plain": [
       "<matplotlib.figure.Figure at 0x1c211dff940>"
      ]
     },
     "metadata": {},
     "output_type": "display_data"
    }
   ],
   "source": [
    "# Make predictions for the lowest and highest dates, then interpolate\n",
    "date_bounds = pd.DataFrame({\"date_delta\": [df.date_delta.min(), df.date_delta.max()]})\n",
    "preds = model.predict(date_bounds)\n",
    "\n",
    "# Plot the durations, then the predictions\n",
    "df.plot.scatter(x = \"date_delta\", y = \"duration\")\n",
    "plt.plot(date_bounds, preds)\n",
    "plt.xlabel(\"Days into Winter Quarter\")\n",
    "plt.ylabel(\"Hours in Bed\");"
   ]
  },
  {
   "cell_type": "markdown",
   "metadata": {},
   "source": [
    "We cannot conclude anything meaningful about my sleep durations during winter quarter."
   ]
  }
 ],
 "metadata": {
  "kernelspec": {
   "display_name": "Python 3",
   "language": "python",
   "name": "python3"
  },
  "language_info": {
   "codemirror_mode": {
    "name": "ipython",
    "version": 3
   },
   "file_extension": ".py",
   "mimetype": "text/x-python",
   "name": "python",
   "nbconvert_exporter": "python",
   "pygments_lexer": "ipython3",
   "version": "3.5.2"
  }
 },
 "nbformat": 4,
 "nbformat_minor": 2
}
